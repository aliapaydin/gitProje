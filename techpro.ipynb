{
 "cells": [
  {
   "cell_type": "code",
   "execution_count": 1,
   "metadata": {},
   "outputs": [
    {
     "data": {
      "text/plain": [
       "{'T': 1,\n",
       " 'e': 3,\n",
       " 'c': 1,\n",
       " 'h': 2,\n",
       " 'p': 1,\n",
       " 'r': 1,\n",
       " 'o': 1,\n",
       " ' ': 3,\n",
       " 'i': 1,\n",
       " 's': 2,\n",
       " 't': 2,\n",
       " 'b': 1}"
      ]
     },
     "execution_count": 1,
     "metadata": {},
     "output_type": "execute_result"
    }
   ],
   "source": [
    "# \"\"Techpro is the best\" >> bu string içerisindeki karakterlerin kaçar kez geçtiğini gösteren kodu yazın.\n",
    "\n",
    "result_dict = {}\n",
    "\n",
    "for i in \"Techpro is the best\":\n",
    "\n",
    "    if i in result_dict:\n",
    "        result_dict[i] += 1\n",
    "    else:\n",
    "        result_dict[i] = 1\n",
    "result_dict"
   ]
  }
 ],
 "metadata": {
  "kernelspec": {
   "display_name": "Python 3",
   "language": "python",
   "name": "python3"
  },
  "language_info": {
   "codemirror_mode": {
    "name": "ipython",
    "version": 3
   },
   "file_extension": ".py",
   "mimetype": "text/x-python",
   "name": "python",
   "nbconvert_exporter": "python",
   "pygments_lexer": "ipython3",
   "version": "3.12.0"
  }
 },
 "nbformat": 4,
 "nbformat_minor": 2
}
